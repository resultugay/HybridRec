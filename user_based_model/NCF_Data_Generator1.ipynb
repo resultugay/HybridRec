{
 "cells": [
  {
   "cell_type": "code",
   "execution_count": 3,
   "metadata": {},
   "outputs": [],
   "source": [
    "import pandas as pd"
   ]
  },
  {
   "cell_type": "code",
   "execution_count": 4,
   "metadata": {},
   "outputs": [],
   "source": [
    "df = pd.read_csv(\"BasvurularKCKara.csv\")\n",
    "df.drop_duplicates(inplace=True) # there are some dublicates"
   ]
  },
  {
   "cell_type": "code",
   "execution_count": 5,
   "metadata": {},
   "outputs": [
    {
     "data": {
      "text/html": [
       "<div>\n",
       "<style scoped>\n",
       "    .dataframe tbody tr th:only-of-type {\n",
       "        vertical-align: middle;\n",
       "    }\n",
       "\n",
       "    .dataframe tbody tr th {\n",
       "        vertical-align: top;\n",
       "    }\n",
       "\n",
       "    .dataframe thead th {\n",
       "        text-align: right;\n",
       "    }\n",
       "</style>\n",
       "<table border=\"1\" class=\"dataframe\">\n",
       "  <thead>\n",
       "    <tr style=\"text-align: right;\">\n",
       "      <th></th>\n",
       "      <th>loginId</th>\n",
       "      <th>jobrefno</th>\n",
       "      <th>closingdaten</th>\n",
       "    </tr>\n",
       "  </thead>\n",
       "  <tbody>\n",
       "    <tr>\n",
       "      <th>0</th>\n",
       "      <td>16011544</td>\n",
       "      <td>27997</td>\n",
       "      <td>20180324.0</td>\n",
       "    </tr>\n",
       "    <tr>\n",
       "      <th>1</th>\n",
       "      <td>14683593</td>\n",
       "      <td>27997</td>\n",
       "      <td>20180324.0</td>\n",
       "    </tr>\n",
       "    <tr>\n",
       "      <th>2</th>\n",
       "      <td>16752003</td>\n",
       "      <td>27997</td>\n",
       "      <td>20180324.0</td>\n",
       "    </tr>\n",
       "    <tr>\n",
       "      <th>3</th>\n",
       "      <td>20339561</td>\n",
       "      <td>27997</td>\n",
       "      <td>20180324.0</td>\n",
       "    </tr>\n",
       "    <tr>\n",
       "      <th>4</th>\n",
       "      <td>11978336</td>\n",
       "      <td>27997</td>\n",
       "      <td>20180324.0</td>\n",
       "    </tr>\n",
       "  </tbody>\n",
       "</table>\n",
       "</div>"
      ],
      "text/plain": [
       "    loginId  jobrefno  closingdaten\n",
       "0  16011544     27997    20180324.0\n",
       "1  14683593     27997    20180324.0\n",
       "2  16752003     27997    20180324.0\n",
       "3  20339561     27997    20180324.0\n",
       "4  11978336     27997    20180324.0"
      ]
     },
     "execution_count": 5,
     "metadata": {},
     "output_type": "execute_result"
    }
   ],
   "source": [
    "df.head()"
   ]
  },
  {
   "cell_type": "code",
   "execution_count": 6,
   "metadata": {},
   "outputs": [
    {
     "data": {
      "text/plain": [
       "('toplam user sample :',\n",
       " 26736326,\n",
       " 'Toplam user',\n",
       " 1631605,\n",
       " 'Toplam jobs',\n",
       " 512546)"
      ]
     },
     "execution_count": 6,
     "metadata": {},
     "output_type": "execute_result"
    }
   ],
   "source": [
    "\"toplam user sample :\",len(df), \"Toplam user\",len(df['loginId'].unique()),\"Toplam jobs\",len(df['jobrefno'].unique())"
   ]
  },
  {
   "cell_type": "code",
   "execution_count": 7,
   "metadata": {},
   "outputs": [],
   "source": [
    "all_df = df.groupby([\"loginId\"]).size().reset_index(name='counts')"
   ]
  },
  {
   "cell_type": "code",
   "execution_count": 8,
   "metadata": {},
   "outputs": [],
   "source": [
    "three = all_df[\"counts\"] > 2\n",
    "ten = all_df[\"counts\"] < 100\n",
    "three_and_ten = all_df[three & ten]"
   ]
  },
  {
   "cell_type": "code",
   "execution_count": 9,
   "metadata": {},
   "outputs": [
    {
     "data": {
      "text/html": [
       "<div>\n",
       "<style scoped>\n",
       "    .dataframe tbody tr th:only-of-type {\n",
       "        vertical-align: middle;\n",
       "    }\n",
       "\n",
       "    .dataframe tbody tr th {\n",
       "        vertical-align: top;\n",
       "    }\n",
       "\n",
       "    .dataframe thead th {\n",
       "        text-align: right;\n",
       "    }\n",
       "</style>\n",
       "<table border=\"1\" class=\"dataframe\">\n",
       "  <thead>\n",
       "    <tr style=\"text-align: right;\">\n",
       "      <th></th>\n",
       "      <th>loginId</th>\n",
       "      <th>counts</th>\n",
       "    </tr>\n",
       "  </thead>\n",
       "  <tbody>\n",
       "    <tr>\n",
       "      <th>0</th>\n",
       "      <td>10013</td>\n",
       "      <td>70</td>\n",
       "    </tr>\n",
       "    <tr>\n",
       "      <th>1</th>\n",
       "      <td>10019</td>\n",
       "      <td>46</td>\n",
       "    </tr>\n",
       "    <tr>\n",
       "      <th>2</th>\n",
       "      <td>10024</td>\n",
       "      <td>73</td>\n",
       "    </tr>\n",
       "    <tr>\n",
       "      <th>4</th>\n",
       "      <td>10041</td>\n",
       "      <td>4</td>\n",
       "    </tr>\n",
       "    <tr>\n",
       "      <th>5</th>\n",
       "      <td>10042</td>\n",
       "      <td>58</td>\n",
       "    </tr>\n",
       "  </tbody>\n",
       "</table>\n",
       "</div>"
      ],
      "text/plain": [
       "   loginId  counts\n",
       "0    10013      70\n",
       "1    10019      46\n",
       "2    10024      73\n",
       "4    10041       4\n",
       "5    10042      58"
      ]
     },
     "execution_count": 9,
     "metadata": {},
     "output_type": "execute_result"
    }
   ],
   "source": [
    "three_and_ten.head()"
   ]
  },
  {
   "cell_type": "code",
   "execution_count": 10,
   "metadata": {},
   "outputs": [],
   "source": [
    "col_names = [\"loginId\", \"jobrefno\", \"closingdaten\",\"counts\"]\n",
    "reduced_df = three_and_ten.merge(df, left_on=\"loginId\", right_on=\"loginId\")\\\n",
    "   .loc[:, col_names] # takes a while"
   ]
  },
  {
   "cell_type": "code",
   "execution_count": 11,
   "metadata": {},
   "outputs": [
    {
     "data": {
      "text/plain": [
       "(17426268, 1041564, 315007)"
      ]
     },
     "execution_count": 11,
     "metadata": {},
     "output_type": "execute_result"
    }
   ],
   "source": [
    "len(reduced_df),len(reduced_df['loginId'].unique()),len(reduced_df['jobrefno'].unique())"
   ]
  },
  {
   "cell_type": "code",
   "execution_count": 12,
   "metadata": {},
   "outputs": [],
   "source": [
    "users_list = reduced_df['loginId'].unique()\n",
    "#we map our unique ilanlar to numbers. Great!\n",
    "mapped_users_list = dict(zip(users_list, range(len(users_list))))\n",
    "#creating a new integer mapped-column from users column. That was the thing I was looking for!\n",
    "mapped_users_df = pd.DataFrame()\n",
    "mapped_users_df['users'] = reduced_df['loginId'].map(mapped_users_list)\n",
    "reduced_df['users'] = reduced_df['loginId'].map(mapped_users_list)\n",
    "mapped_users_df['loginId'] = reduced_df['loginId']"
   ]
  },
  {
   "cell_type": "code",
   "execution_count": 13,
   "metadata": {},
   "outputs": [],
   "source": [
    "mapped_users_df.drop_duplicates(inplace=True)\n",
    "mapped_users_df.to_csv('Data/mapped_users.csv')"
   ]
  },
  {
   "cell_type": "code",
   "execution_count": 14,
   "metadata": {},
   "outputs": [],
   "source": [
    "jobs_list = reduced_df['jobrefno'].unique()\n",
    "#we map our unique ilanlar to numbers. Great!\n",
    "mapped_jobs_list = dict(zip(jobs_list, range(len(jobs_list))))\n",
    "#creating a new integer mapped-column from users column. That was the thing I was looking for!\n",
    "mapped_jobs_df = pd.DataFrame()\n",
    "mapped_jobs_df['jobs'] = reduced_df['jobrefno'].map(mapped_jobs_list)\n",
    "reduced_df['jobs'] = mapped_jobs_df['jobs']\n",
    "mapped_jobs_df['jobrefno'] = reduced_df['jobrefno']"
   ]
  },
  {
   "cell_type": "code",
   "execution_count": 15,
   "metadata": {},
   "outputs": [],
   "source": [
    "mapped_jobs_df.drop_duplicates(inplace=True)\n",
    "mapped_jobs_df.to_csv('Data/mapped_jobs.csv')"
   ]
  },
  {
   "cell_type": "code",
   "execution_count": 16,
   "metadata": {},
   "outputs": [],
   "source": [
    "all_hotels_df_sorted = reduced_df.sort_values(by=[\"users\",\"closingdaten\"])"
   ]
  },
  {
   "cell_type": "code",
   "execution_count": 20,
   "metadata": {},
   "outputs": [
    {
     "data": {
      "text/html": [
       "<div>\n",
       "<style scoped>\n",
       "    .dataframe tbody tr th:only-of-type {\n",
       "        vertical-align: middle;\n",
       "    }\n",
       "\n",
       "    .dataframe tbody tr th {\n",
       "        vertical-align: top;\n",
       "    }\n",
       "\n",
       "    .dataframe thead th {\n",
       "        text-align: right;\n",
       "    }\n",
       "</style>\n",
       "<table border=\"1\" class=\"dataframe\">\n",
       "  <thead>\n",
       "    <tr style=\"text-align: right;\">\n",
       "      <th></th>\n",
       "      <th>loginId</th>\n",
       "      <th>jobrefno</th>\n",
       "      <th>closingdaten</th>\n",
       "      <th>counts</th>\n",
       "      <th>users</th>\n",
       "      <th>jobs</th>\n",
       "    </tr>\n",
       "  </thead>\n",
       "  <tbody>\n",
       "    <tr>\n",
       "      <th>11</th>\n",
       "      <td>10013</td>\n",
       "      <td>2163364</td>\n",
       "      <td>20181220.0</td>\n",
       "      <td>70</td>\n",
       "      <td>0</td>\n",
       "      <td>11</td>\n",
       "    </tr>\n",
       "    <tr>\n",
       "      <th>13</th>\n",
       "      <td>10013</td>\n",
       "      <td>2177920</td>\n",
       "      <td>20190110.0</td>\n",
       "      <td>70</td>\n",
       "      <td>0</td>\n",
       "      <td>13</td>\n",
       "    </tr>\n",
       "    <tr>\n",
       "      <th>12</th>\n",
       "      <td>10013</td>\n",
       "      <td>2177596</td>\n",
       "      <td>20190111.0</td>\n",
       "      <td>70</td>\n",
       "      <td>0</td>\n",
       "      <td>12</td>\n",
       "    </tr>\n",
       "    <tr>\n",
       "      <th>14</th>\n",
       "      <td>10013</td>\n",
       "      <td>2184920</td>\n",
       "      <td>20190119.0</td>\n",
       "      <td>70</td>\n",
       "      <td>0</td>\n",
       "      <td>14</td>\n",
       "    </tr>\n",
       "    <tr>\n",
       "      <th>16</th>\n",
       "      <td>10013</td>\n",
       "      <td>2186162</td>\n",
       "      <td>20190121.0</td>\n",
       "      <td>70</td>\n",
       "      <td>0</td>\n",
       "      <td>16</td>\n",
       "    </tr>\n",
       "  </tbody>\n",
       "</table>\n",
       "</div>"
      ],
      "text/plain": [
       "    loginId  jobrefno  closingdaten  counts  users  jobs\n",
       "11    10013   2163364    20181220.0      70      0    11\n",
       "13    10013   2177920    20190110.0      70      0    13\n",
       "12    10013   2177596    20190111.0      70      0    12\n",
       "14    10013   2184920    20190119.0      70      0    14\n",
       "16    10013   2186162    20190121.0      70      0    16"
      ]
     },
     "execution_count": 20,
     "metadata": {},
     "output_type": "execute_result"
    }
   ],
   "source": [
    "all_hotels_df_sorted.head(5)"
   ]
  },
  {
   "cell_type": "code",
   "execution_count": 21,
   "metadata": {
    "scrolled": true
   },
   "outputs": [],
   "source": [
    "all_hotels_df_sorted.to_csv(\"Data/applications_sorted.csv\")"
   ]
  },
  {
   "cell_type": "code",
   "execution_count": 33,
   "metadata": {},
   "outputs": [],
   "source": [
    "i = 0\n",
    "cnt = 0\n",
    "seventy = 0\n",
    "last_row = 0\n",
    "total_example_count = 0"
   ]
  },
  {
   "cell_type": "code",
   "execution_count": 34,
   "metadata": {},
   "outputs": [
    {
     "data": {
      "text/plain": [
       "17426268"
      ]
     },
     "execution_count": 34,
     "metadata": {},
     "output_type": "execute_result"
    }
   ],
   "source": [
    "len(all_hotels_df_sorted)"
   ]
  },
  {
   "cell_type": "code",
   "execution_count": 35,
   "metadata": {
    "scrolled": true
   },
   "outputs": [
    {
     "name": "stdout",
     "output_type": "stream",
     "text": [
      "10000\n",
      "20000\n",
      "30000\n",
      "40000\n",
      "50000\n",
      "60000\n",
      "70000\n",
      "80000\n",
      "90000\n",
      "100000\n",
      "110000\n",
      "120000\n",
      "130000\n",
      "140000\n",
      "150000\n",
      "160000\n",
      "170000\n",
      "180000\n",
      "190000\n",
      "200000\n",
      "210000\n",
      "220000\n",
      "230000\n",
      "240000\n",
      "250000\n",
      "260000\n",
      "270000\n",
      "280000\n",
      "290000\n",
      "300000\n",
      "310000\n",
      "320000\n",
      "330000\n",
      "340000\n",
      "350000\n",
      "360000\n",
      "370000\n",
      "380000\n",
      "390000\n",
      "400000\n",
      "410000\n",
      "420000\n",
      "430000\n",
      "440000\n",
      "450000\n",
      "460000\n",
      "470000\n",
      "480000\n",
      "490000\n",
      "500000\n",
      "510000\n",
      "520000\n",
      "530000\n",
      "540000\n",
      "550000\n",
      "560000\n",
      "570000\n",
      "580000\n",
      "590000\n",
      "600000\n",
      "610000\n",
      "620000\n",
      "630000\n",
      "640000\n",
      "650000\n",
      "660000\n",
      "670000\n",
      "680000\n",
      "690000\n",
      "700000\n",
      "710000\n",
      "720000\n",
      "730000\n",
      "740000\n",
      "750000\n",
      "760000\n",
      "770000\n",
      "780000\n",
      "790000\n",
      "800000\n",
      "810000\n",
      "820000\n",
      "830000\n",
      "840000\n",
      "850000\n",
      "860000\n",
      "870000\n",
      "880000\n",
      "890000\n",
      "900000\n",
      "910000\n",
      "920000\n",
      "930000\n",
      "940000\n",
      "950000\n",
      "960000\n",
      "970000\n",
      "980000\n",
      "990000\n",
      "1000000\n",
      "1010000\n",
      "1020000\n",
      "1030000\n",
      "1040000\n"
     ]
    }
   ],
   "source": [
    "lda = [True] * len(all_hotels_df_sorted)\n",
    "\n",
    "while i < len(all_hotels_df_sorted):\n",
    "    cnt+=1\n",
    "    #print(sorted_df.iloc[i][0],sorted_df.iloc[i][1],sorted_df.iloc[i][2],sorted_df.iloc[i][3]\n",
    "    total_example_count = int(all_hotels_df_sorted.iloc[i][3])\n",
    "    #seventy = int(total_example_count * 0.7)\n",
    "    seventy = total_example_count - 1\n",
    "    #print(seventy)\n",
    "    #for j in range(seventy):\n",
    "       #print(i,\"train\",sorted_df.iloc[i+j][0], sorted_df.iloc[i+j][1], sorted_df.iloc[i+j][2], sorted_df.iloc[i+j][3])\n",
    "       #train_set = train_set.append(sorted_df.loc[i+j])\n",
    "       #sorted_df.loc[i + j,4] = 'train'\n",
    "       #i += 1\n",
    "    #train_set = train_set.append(sorted_df.iloc[i:i+seventy,:],ignore_index=True)\n",
    "    last_row = i + total_example_count\n",
    "    i = i + seventy\n",
    "    #test_set = test_set.append(sorted_df.iloc[i:i+total_example_count-seventy,:])\n",
    "    #i = i + total_example_count-seventy\n",
    "     #  train_set.append(sorted_df.iloc[i])\n",
    "    #rest_range = total_example_count - seventy\n",
    "    #for k in range(rest_range):\n",
    "       #print(i,\"test\",sorted_df.iloc[i][0], sorted_df.iloc[i][1], sorted_df.iloc[i][2], sorted_df.iloc[i][3])\n",
    "       #test_set.append(sorted_df[i+i:])\n",
    "       #sorted_df.iloc[i+k,4] = 2\n",
    "       #i += 1\n",
    "    #sorted_df.iloc[i:last_row, 4] = 2\n",
    "    \n",
    "    try:\n",
    "        for k in range(i,last_row):\n",
    "            lda[k] = False\n",
    "    except:\n",
    "        print(i,cnt,last_row)\n",
    "        print(all_hotels_df_sorted.iloc[i][3])\n",
    "        \n",
    "\n",
    "    i = i + total_example_count - seventy\n",
    "    if(cnt%10000 == 0):\n",
    "        print(cnt)"
   ]
  },
  {
   "cell_type": "code",
   "execution_count": 36,
   "metadata": {},
   "outputs": [
    {
     "name": "stdout",
     "output_type": "stream",
     "text": [
      "total unique cust for train 1041564\n",
      "total unique cust for test 1041564\n"
     ]
    }
   ],
   "source": [
    "train_set = all_hotels_df_sorted.loc[lda]\n",
    "test_set = all_hotels_df_sorted.loc[[not x for x in lda]]\n",
    "\n",
    "print(\"total unique cust for train\",len(train_set[\"users\"].unique()))\n",
    "print(\"total unique cust for test\",len(test_set[\"users\"].unique()))"
   ]
  },
  {
   "cell_type": "code",
   "execution_count": 40,
   "metadata": {},
   "outputs": [],
   "source": [
    "train_set[['users','jobs','train_or_test','jobrefno']].to_csv(\"Data/training_new.csv\",index=False)\n",
    "test_set[['users','jobs','train_or_test','jobrefno']].to_csv(\"Data/test_new.csv\",index=False)"
   ]
  },
  {
   "cell_type": "code",
   "execution_count": 39,
   "metadata": {
    "scrolled": true
   },
   "outputs": [
    {
     "data": {
      "text/html": [
       "<div>\n",
       "<style scoped>\n",
       "    .dataframe tbody tr th:only-of-type {\n",
       "        vertical-align: middle;\n",
       "    }\n",
       "\n",
       "    .dataframe tbody tr th {\n",
       "        vertical-align: top;\n",
       "    }\n",
       "\n",
       "    .dataframe thead th {\n",
       "        text-align: right;\n",
       "    }\n",
       "</style>\n",
       "<table border=\"1\" class=\"dataframe\">\n",
       "  <thead>\n",
       "    <tr style=\"text-align: right;\">\n",
       "      <th></th>\n",
       "      <th>loginId</th>\n",
       "      <th>jobrefno</th>\n",
       "      <th>closingdaten</th>\n",
       "      <th>counts</th>\n",
       "      <th>users</th>\n",
       "      <th>jobs</th>\n",
       "      <th>train_or_test</th>\n",
       "    </tr>\n",
       "  </thead>\n",
       "  <tbody>\n",
       "    <tr>\n",
       "      <th>11</th>\n",
       "      <td>10013</td>\n",
       "      <td>2163364</td>\n",
       "      <td>20181220.0</td>\n",
       "      <td>70</td>\n",
       "      <td>0</td>\n",
       "      <td>11</td>\n",
       "      <td>1</td>\n",
       "    </tr>\n",
       "    <tr>\n",
       "      <th>13</th>\n",
       "      <td>10013</td>\n",
       "      <td>2177920</td>\n",
       "      <td>20190110.0</td>\n",
       "      <td>70</td>\n",
       "      <td>0</td>\n",
       "      <td>13</td>\n",
       "      <td>1</td>\n",
       "    </tr>\n",
       "    <tr>\n",
       "      <th>12</th>\n",
       "      <td>10013</td>\n",
       "      <td>2177596</td>\n",
       "      <td>20190111.0</td>\n",
       "      <td>70</td>\n",
       "      <td>0</td>\n",
       "      <td>12</td>\n",
       "      <td>1</td>\n",
       "    </tr>\n",
       "    <tr>\n",
       "      <th>14</th>\n",
       "      <td>10013</td>\n",
       "      <td>2184920</td>\n",
       "      <td>20190119.0</td>\n",
       "      <td>70</td>\n",
       "      <td>0</td>\n",
       "      <td>14</td>\n",
       "      <td>1</td>\n",
       "    </tr>\n",
       "    <tr>\n",
       "      <th>16</th>\n",
       "      <td>10013</td>\n",
       "      <td>2186162</td>\n",
       "      <td>20190121.0</td>\n",
       "      <td>70</td>\n",
       "      <td>0</td>\n",
       "      <td>16</td>\n",
       "      <td>1</td>\n",
       "    </tr>\n",
       "    <tr>\n",
       "      <th>15</th>\n",
       "      <td>10013</td>\n",
       "      <td>2186056</td>\n",
       "      <td>20190122.0</td>\n",
       "      <td>70</td>\n",
       "      <td>0</td>\n",
       "      <td>15</td>\n",
       "      <td>1</td>\n",
       "    </tr>\n",
       "    <tr>\n",
       "      <th>19</th>\n",
       "      <td>10013</td>\n",
       "      <td>2187165</td>\n",
       "      <td>20190124.0</td>\n",
       "      <td>70</td>\n",
       "      <td>0</td>\n",
       "      <td>19</td>\n",
       "      <td>1</td>\n",
       "    </tr>\n",
       "    <tr>\n",
       "      <th>20</th>\n",
       "      <td>10013</td>\n",
       "      <td>2189421</td>\n",
       "      <td>20190127.0</td>\n",
       "      <td>70</td>\n",
       "      <td>0</td>\n",
       "      <td>20</td>\n",
       "      <td>1</td>\n",
       "    </tr>\n",
       "    <tr>\n",
       "      <th>21</th>\n",
       "      <td>10013</td>\n",
       "      <td>2189641</td>\n",
       "      <td>20190127.0</td>\n",
       "      <td>70</td>\n",
       "      <td>0</td>\n",
       "      <td>21</td>\n",
       "      <td>1</td>\n",
       "    </tr>\n",
       "    <tr>\n",
       "      <th>8</th>\n",
       "      <td>10013</td>\n",
       "      <td>2150922</td>\n",
       "      <td>20190128.0</td>\n",
       "      <td>70</td>\n",
       "      <td>0</td>\n",
       "      <td>8</td>\n",
       "      <td>1</td>\n",
       "    </tr>\n",
       "    <tr>\n",
       "      <th>22</th>\n",
       "      <td>10013</td>\n",
       "      <td>2189793</td>\n",
       "      <td>20190128.0</td>\n",
       "      <td>70</td>\n",
       "      <td>0</td>\n",
       "      <td>22</td>\n",
       "      <td>1</td>\n",
       "    </tr>\n",
       "    <tr>\n",
       "      <th>23</th>\n",
       "      <td>10013</td>\n",
       "      <td>2190998</td>\n",
       "      <td>20190131.0</td>\n",
       "      <td>70</td>\n",
       "      <td>0</td>\n",
       "      <td>23</td>\n",
       "      <td>1</td>\n",
       "    </tr>\n",
       "    <tr>\n",
       "      <th>25</th>\n",
       "      <td>10013</td>\n",
       "      <td>2191621</td>\n",
       "      <td>20190202.0</td>\n",
       "      <td>70</td>\n",
       "      <td>0</td>\n",
       "      <td>25</td>\n",
       "      <td>1</td>\n",
       "    </tr>\n",
       "    <tr>\n",
       "      <th>26</th>\n",
       "      <td>10013</td>\n",
       "      <td>2193402</td>\n",
       "      <td>20190204.0</td>\n",
       "      <td>70</td>\n",
       "      <td>0</td>\n",
       "      <td>26</td>\n",
       "      <td>1</td>\n",
       "    </tr>\n",
       "    <tr>\n",
       "      <th>17</th>\n",
       "      <td>10013</td>\n",
       "      <td>2186282</td>\n",
       "      <td>20190205.0</td>\n",
       "      <td>70</td>\n",
       "      <td>0</td>\n",
       "      <td>17</td>\n",
       "      <td>1</td>\n",
       "    </tr>\n",
       "    <tr>\n",
       "      <th>27</th>\n",
       "      <td>10013</td>\n",
       "      <td>2195098</td>\n",
       "      <td>20190208.0</td>\n",
       "      <td>70</td>\n",
       "      <td>0</td>\n",
       "      <td>27</td>\n",
       "      <td>1</td>\n",
       "    </tr>\n",
       "    <tr>\n",
       "      <th>28</th>\n",
       "      <td>10013</td>\n",
       "      <td>2195707</td>\n",
       "      <td>20190209.0</td>\n",
       "      <td>70</td>\n",
       "      <td>0</td>\n",
       "      <td>28</td>\n",
       "      <td>1</td>\n",
       "    </tr>\n",
       "    <tr>\n",
       "      <th>29</th>\n",
       "      <td>10013</td>\n",
       "      <td>2197484</td>\n",
       "      <td>20190211.0</td>\n",
       "      <td>70</td>\n",
       "      <td>0</td>\n",
       "      <td>29</td>\n",
       "      <td>1</td>\n",
       "    </tr>\n",
       "    <tr>\n",
       "      <th>30</th>\n",
       "      <td>10013</td>\n",
       "      <td>2198441</td>\n",
       "      <td>20190214.0</td>\n",
       "      <td>70</td>\n",
       "      <td>0</td>\n",
       "      <td>30</td>\n",
       "      <td>1</td>\n",
       "    </tr>\n",
       "    <tr>\n",
       "      <th>5</th>\n",
       "      <td>10013</td>\n",
       "      <td>2142217</td>\n",
       "      <td>20190215.0</td>\n",
       "      <td>70</td>\n",
       "      <td>0</td>\n",
       "      <td>5</td>\n",
       "      <td>1</td>\n",
       "    </tr>\n",
       "    <tr>\n",
       "      <th>31</th>\n",
       "      <td>10013</td>\n",
       "      <td>2199000</td>\n",
       "      <td>20190215.0</td>\n",
       "      <td>70</td>\n",
       "      <td>0</td>\n",
       "      <td>31</td>\n",
       "      <td>1</td>\n",
       "    </tr>\n",
       "    <tr>\n",
       "      <th>32</th>\n",
       "      <td>10013</td>\n",
       "      <td>2199058</td>\n",
       "      <td>20190215.0</td>\n",
       "      <td>70</td>\n",
       "      <td>0</td>\n",
       "      <td>32</td>\n",
       "      <td>1</td>\n",
       "    </tr>\n",
       "    <tr>\n",
       "      <th>33</th>\n",
       "      <td>10013</td>\n",
       "      <td>2207463</td>\n",
       "      <td>20190221.0</td>\n",
       "      <td>70</td>\n",
       "      <td>0</td>\n",
       "      <td>33</td>\n",
       "      <td>1</td>\n",
       "    </tr>\n",
       "  </tbody>\n",
       "</table>\n",
       "</div>"
      ],
      "text/plain": [
       "    loginId  jobrefno  closingdaten  counts  users  jobs  train_or_test\n",
       "11    10013   2163364    20181220.0      70      0    11              1\n",
       "13    10013   2177920    20190110.0      70      0    13              1\n",
       "12    10013   2177596    20190111.0      70      0    12              1\n",
       "14    10013   2184920    20190119.0      70      0    14              1\n",
       "16    10013   2186162    20190121.0      70      0    16              1\n",
       "15    10013   2186056    20190122.0      70      0    15              1\n",
       "19    10013   2187165    20190124.0      70      0    19              1\n",
       "20    10013   2189421    20190127.0      70      0    20              1\n",
       "21    10013   2189641    20190127.0      70      0    21              1\n",
       "8     10013   2150922    20190128.0      70      0     8              1\n",
       "22    10013   2189793    20190128.0      70      0    22              1\n",
       "23    10013   2190998    20190131.0      70      0    23              1\n",
       "25    10013   2191621    20190202.0      70      0    25              1\n",
       "26    10013   2193402    20190204.0      70      0    26              1\n",
       "17    10013   2186282    20190205.0      70      0    17              1\n",
       "27    10013   2195098    20190208.0      70      0    27              1\n",
       "28    10013   2195707    20190209.0      70      0    28              1\n",
       "29    10013   2197484    20190211.0      70      0    29              1\n",
       "30    10013   2198441    20190214.0      70      0    30              1\n",
       "5     10013   2142217    20190215.0      70      0     5              1\n",
       "31    10013   2199000    20190215.0      70      0    31              1\n",
       "32    10013   2199058    20190215.0      70      0    32              1\n",
       "33    10013   2207463    20190221.0      70      0    33              1"
      ]
     },
     "execution_count": 39,
     "metadata": {},
     "output_type": "execute_result"
    }
   ],
   "source": [
    "train_set[['users','jobs','train_or_test','jobrefno']].head(23)"
   ]
  },
  {
   "cell_type": "code",
   "execution_count": 148,
   "metadata": {},
   "outputs": [
    {
     "data": {
      "text/plain": [
       "3103175"
      ]
     },
     "execution_count": 148,
     "metadata": {},
     "output_type": "execute_result"
    }
   ],
   "source": [
    "len(lda)"
   ]
  },
  {
   "cell_type": "code",
   "execution_count": 184,
   "metadata": {},
   "outputs": [
    {
     "data": {
      "text/plain": [
       "143800"
      ]
     },
     "execution_count": 184,
     "metadata": {},
     "output_type": "execute_result"
    }
   ],
   "source": [
    "len(all_hotels_df_sorted['jobs'].unique())"
   ]
  },
  {
   "cell_type": "code",
   "execution_count": null,
   "metadata": {},
   "outputs": [],
   "source": []
  }
 ],
 "metadata": {
  "kernelspec": {
   "display_name": "pytorch",
   "language": "python",
   "name": "pytorch"
  },
  "language_info": {
   "codemirror_mode": {
    "name": "ipython",
    "version": 3
   },
   "file_extension": ".py",
   "mimetype": "text/x-python",
   "name": "python",
   "nbconvert_exporter": "python",
   "pygments_lexer": "ipython3",
   "version": "3.6.7"
  }
 },
 "nbformat": 4,
 "nbformat_minor": 2
}
